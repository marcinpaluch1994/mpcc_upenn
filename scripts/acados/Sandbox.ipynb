{
 "cells": [
  {
   "cell_type": "code",
   "execution_count": 2,
   "metadata": {},
   "outputs": [],
   "source": [
    "from casadi import *\n",
    "import os\n",
    "from dynamic_model import *\n",
    "import Bezier\n",
    "from readDataFcn import getTrack\n",
    "import matplotlib.pyplot as plt\n",
    "import yaml\n",
    "from scipy.interpolate import CubicSpline\n",
    "%matplotlib qt"
   ]
  },
  {
   "cell_type": "code",
   "execution_count": 3,
   "metadata": {},
   "outputs": [
    {
     "data": {
      "text/plain": [
       "'/home/pw/catkin_ws/src/mpcc/scripts/Acadosmodel'"
      ]
     },
     "execution_count": 3,
     "metadata": {},
     "output_type": "execute_result"
    }
   ],
   "source": [
    "import os\n",
    "os.getcwd()"
   ]
  },
  {
   "cell_type": "code",
   "execution_count": 4,
   "metadata": {},
   "outputs": [
    {
     "name": "stdout",
     "output_type": "stream",
     "text": [
      "table generated with npoints =  2312\n",
      "Variables stored in following order =  ['sval', 'tval', 'xtrack', 'ytrack', 'phitrack', 'cos(phi)', 'sin(phi)', 'g_upper', 'g_lower']\n"
     ]
    },
    {
     "ename": "TypeError",
     "evalue": "tuple indices must be integers or slices, not tuple",
     "output_type": "error",
     "traceback": [
      "\u001B[0;31m---------------------------------------------------------------------------\u001B[0m",
      "\u001B[0;31mTypeError\u001B[0m                                 Traceback (most recent call last)",
      "\u001B[0;32m<ipython-input-4-2211e606af0c>\u001B[0m in \u001B[0;36m<module>\u001B[0;34m\u001B[0m\n\u001B[1;32m      1\u001B[0m \u001B[0mtable\u001B[0m \u001B[0;34m=\u001B[0m \u001B[0mBezier\u001B[0m\u001B[0;34m.\u001B[0m\u001B[0mgeneratelookuptable\u001B[0m\u001B[0;34m(\u001B[0m\u001B[0;34m'tracks/simpleoval'\u001B[0m\u001B[0;34m)\u001B[0m\u001B[0;34m\u001B[0m\u001B[0;34m\u001B[0m\u001B[0m\n\u001B[0;32m----> 2\u001B[0;31m \u001B[0mBezier\u001B[0m\u001B[0;34m.\u001B[0m\u001B[0mplot_track\u001B[0m\u001B[0;34m(\u001B[0m\u001B[0mtable\u001B[0m\u001B[0;34m)\u001B[0m\u001B[0;34m\u001B[0m\u001B[0;34m\u001B[0m\u001B[0m\n\u001B[0m",
      "\u001B[0;32m~/catkin_ws/src/mpcc/scripts/Acadosmodel/Bezier.py\u001B[0m in \u001B[0;36mplot_track\u001B[0;34m(table)\u001B[0m\n\u001B[1;32m    171\u001B[0m     \u001B[0;31m#downsample\u001B[0m\u001B[0;34m\u001B[0m\u001B[0;34m\u001B[0m\u001B[0;34m\u001B[0m\u001B[0m\n\u001B[1;32m    172\u001B[0m     \u001B[0mdownsampling\u001B[0m \u001B[0;34m=\u001B[0m \u001B[0;36m20\u001B[0m\u001B[0;34m\u001B[0m\u001B[0;34m\u001B[0m\u001B[0m\n\u001B[0;32m--> 173\u001B[0;31m     \u001B[0mcoords\u001B[0m \u001B[0;34m=\u001B[0m \u001B[0mtable\u001B[0m\u001B[0;34m[\u001B[0m\u001B[0;34m:\u001B[0m\u001B[0;34m,\u001B[0m \u001B[0;36m2\u001B[0m\u001B[0;34m:\u001B[0m\u001B[0;36m4\u001B[0m\u001B[0;34m]\u001B[0m\u001B[0;34m\u001B[0m\u001B[0;34m\u001B[0m\u001B[0m\n\u001B[0m\u001B[1;32m    174\u001B[0m     \u001B[0mphis\u001B[0m \u001B[0;34m=\u001B[0m \u001B[0mtable\u001B[0m\u001B[0;34m[\u001B[0m\u001B[0;34m:\u001B[0m\u001B[0;34m:\u001B[0m\u001B[0mdownsampling\u001B[0m\u001B[0;34m,\u001B[0m \u001B[0;36m4\u001B[0m\u001B[0;34m]\u001B[0m\u001B[0;34m\u001B[0m\u001B[0;34m\u001B[0m\u001B[0m\n\u001B[1;32m    175\u001B[0m     \u001B[0msvals\u001B[0m \u001B[0;34m=\u001B[0m \u001B[0mtable\u001B[0m\u001B[0;34m[\u001B[0m\u001B[0;34m:\u001B[0m\u001B[0;34m:\u001B[0m\u001B[0mdownsampling\u001B[0m\u001B[0;34m,\u001B[0m \u001B[0;36m0\u001B[0m\u001B[0;34m]\u001B[0m\u001B[0;34m\u001B[0m\u001B[0;34m\u001B[0m\u001B[0m\n",
      "\u001B[0;31mTypeError\u001B[0m: tuple indices must be integers or slices, not tuple"
     ]
    }
   ],
   "source": [
    "table = Bezier.generatelookuptable('tracks/simpleoval')\n",
    "Bezier.plot_track(table)"
   ]
  },
  {
   "cell_type": "code",
   "execution_count": 8,
   "metadata": {},
   "outputs": [],
   "source": [
    "%matplotlib qt\n",
    "def interpolate(waypoints):\n",
    "    #interpolates with cubic bezier curves with cyclic boundary condition\n",
    "    n = len(waypoints)\n",
    "    M = np.zeros([n,n])\n",
    "\n",
    "    #build M\n",
    "    tridiagel = np.matrix([[1, 4, 1]])\n",
    "    for idx in range(n-2):\n",
    "        M[idx+1:idx+2, idx:idx+3] = tridiagel\n",
    "\n",
    "    M[0,0:2]= tridiagel[:,1:3]\n",
    "    M[-1,-2:]= tridiagel[:,0:2]\n",
    "    M[0:2,-1] = tridiagel[:,0].reshape(1,-1)\n",
    "    M[-1,0] = tridiagel[:,0].reshape(1,-1)\n",
    "\n",
    "\n",
    "    #build sol vector\n",
    "    s =np.zeros([n,2])\n",
    "    for idx in range(n-1):\n",
    "        s[idx,:] = 2*(2*waypoints[idx,:] + waypoints[idx+1,:])\n",
    "    s[-1:] = 2*(2*waypoints[-1,:] + waypoints[0,:])\n",
    "\n",
    "    #solve for a & b\n",
    "    Ax = np.linalg.solve(M,s[:,0])\n",
    "    Ay = np.linalg.solve(M,s[:,1])\n",
    "\n",
    "    a = np.vstack([Ax,Ay])\n",
    "    b = np.zeros([2,n])\n",
    "\n",
    "    b[:,:-1] = 2*waypoints.T[:,1:] - a[:,1:]\n",
    "    b[:,-1] = 2*waypoints.T[:,0] - a[:,0]\n",
    "\n",
    "    return a, b\n",
    "\n",
    "def compute_t(coef, order, s):\n",
    "    res = 0\n",
    "    for idx in range(order):\n",
    "        res += coef[idx]*np.power(s,order-idx)\n",
    "    return res\n",
    "\n",
    "def eval_raw(waypoints, a, b, t):\n",
    "    segment = np.floor(t)\n",
    "    segment = int(segment)\n",
    "    n = len(waypoints)\n",
    "    if segment>=n:\n",
    "        t =n-0.0001\n",
    "        segment = n-1\n",
    "    elif t<0:\n",
    "        t = 0\n",
    "    t_val = t-segment\n",
    "    coords = np.power(1 - t_val, 3) * waypoints.T[:,segment] + 3 * np.power(1 - t_val, 2) * t_val * a[:,segment]\\\n",
    "    + 3 * (1 - t_val) * np.power(t_val, 2) * b[:,segment] + np.power(t_val, 3) * waypoints.T[:,int(np.mod(segment+1,n))]\n",
    "\n",
    "    return coords\n",
    "\n",
    "def getangle_raw(waypoints, a, b, t):\n",
    "    nwp = len(waypoints)\n",
    "    der = eval_raw(waypoints, a, b, np.mod(t+0.1, nwp)) - eval_raw(waypoints, a, b, np.mod(t,nwp))\n",
    "    phi = np.arctan2(der[1],der[0])\n",
    "    return phi\n",
    "\n",
    "def fit_st(waypoints, a, b):\n",
    "    #using two revolutions to account for horizon overshooting end of lap\n",
    "    \n",
    "    #fit  the s-t rel.\n",
    "    nwp = len(waypoints)\n",
    "    npoints = 20 * nwp\n",
    "    #compute approx max distance \n",
    "    tvals = np.linspace(0, nwp, npoints+1)\n",
    "    coords =[]\n",
    "    for t in tvals:\n",
    "        coords.append(eval_raw(waypoints, a, b, t))\n",
    "    coords = np.array(coords)\n",
    "    dists = []\n",
    "    dists.append(0)\n",
    "    for idx in range(npoints):\n",
    "        dists.append(np.sqrt(np.sum(np.square(coords[idx,:]-coords[np.mod(idx+1,npoints-1),:]))))\n",
    "    dists = np.cumsum(np.array(dists))\n",
    "    smax = dists[-1]\n",
    "    \n",
    "    #--------fit  the s-t rel. to two track revolutions------\n",
    "    npoints = 2 * 20 * nwp\n",
    "\n",
    "    #compute approx distance to arc param\n",
    "    tvals = np.linspace(0, 2*nwp, npoints+1)\n",
    "\n",
    "    coords =[]\n",
    "    for t in tvals:\n",
    "        coords.append(eval_raw(waypoints, a, b, np.mod(t, nwp)))\n",
    "    coords = np.array(coords)\n",
    "\n",
    "    distsr = []\n",
    "    distsr.append(0)\n",
    "    for idx in range(npoints):\n",
    "        distsr.append(np.sqrt(np.sum(np.square(coords[idx,:]-coords[np.mod(idx+1,npoints-1),:]))))\n",
    "    dists = np.cumsum(np.array(distsr))\n",
    "    #coeffs = coef.value\n",
    "    #print(coords[:])\n",
    "    #print(tvals.shape)\n",
    "    ts_inverse = CubicSpline(dists, tvals)\n",
    "    \n",
    "    \n",
    "    svals = np.linspace(0, 2*smax, npoints)\n",
    "    t_corr = ts_inverse(svals)\n",
    "    #t_corr = compute_t(coeffs,order,svals)\n",
    "\n",
    "\n",
    "    plt.figure()\n",
    "    plt.plot(t_corr, svals)\n",
    "    plt.plot(tvals, dists, linestyle = '--')\n",
    "    plt.xlabel(\"t (Bezier param) [-]\")\n",
    "    plt.ylabel(\"s (approx. distance traveled) [m] \")\n",
    "\n",
    "    return ts_inverse, smax\n",
    "\n",
    "def getwaypoints(track):\n",
    "    #placeholder for now\n",
    "    scaler = 10\n",
    "    trackx = scaler*np.array([0.05, 0.1, 0.2, 0.3, 0.4, 0.5, 0.6, 0.7, 0.75, \\\n",
    "                  0.8 ,0.8 ,0.8 ,0.8, 0.75, 0.7, 0.6, 0.5, 0.4, 0.3, 0.2, 0.1, 0.05, 0.0, 0.0, 0.0, 0.0 ])\n",
    "    tracky = scaler*np.array([0.05, 0.3, 0.4, 0.2, 0.2, 0.0, 0.0, 0.0, 0.05, \\\n",
    "                    0.1, 0.2, 0.3, 0.4, 0.45, 0.5, 0.5, 0.3, 0.3, 0.5, 0.5, 0.5, 0.45, 0.4, 0.3, 0.2, 0.1 ])\n",
    "    waypoints = np.vstack([trackx,tracky]).T\n",
    "\n",
    "    waypoints = np.genfromtxt(track + '.csv', delimiter=',')\n",
    "    return waypoints"
   ]
  },
  {
   "cell_type": "code",
   "execution_count": 9,
   "metadata": {},
   "outputs": [
    {
     "name": "stdout",
     "output_type": "stream",
     "text": [
      "462\n",
      "Variables stored in following order =  ['sval', 'tval', 'xtrack', 'ytrack', 'phitrack', 'cos(phi)', 'sin(phi)', 'g_upper', 'g_lower']\n"
     ]
    }
   ],
   "source": [
    "#load track\n",
    "track = \"tracks/simpleoval\"\n",
    "waypoints = getwaypoints(track)\n",
    "nwp = len(waypoints)\n",
    "plt.scatter(waypoints[:,0], waypoints[:,1])\n",
    "#trackwidth\n",
    "r = 0.1\n",
    "#abez,bbez coeffs\n",
    "a, b = interpolate(waypoints)\n",
    "ts_inverse, smax = fit_st(waypoints, a, b)\n",
    "\n",
    "lutable_density = 20 #[p/m]\n",
    "\n",
    "npoints = int(np.floor(2*smax * lutable_density))\n",
    "print(npoints)\n",
    "\n",
    "svals = np.linspace(0, 2*smax, npoints)\n",
    "tvals = ts_inverse(svals)\n",
    "\n",
    "#  entries :\n",
    "names_table = ['sval', 'tval', 'xtrack', 'ytrack', 'phitrack', 'cos(phi)', 'sin(phi)', 'g_upper', 'g_lower']\n",
    "table = []\n",
    "for idx in range(npoints):\n",
    "    track_point = eval_raw(waypoints, a, b, np.mod(tvals[idx],nwp))\n",
    "    phi = getangle_raw(waypoints, a, b, tvals[idx])\n",
    "    n = [-np.sin(phi), np.cos(phi)]\n",
    "    g_upper = r + track_point[0]*n[0] + track_point[1]*n[1]\n",
    "    g_lower = -r + track_point[0]*n[0] + track_point[1]*n[1]\n",
    "    table.append([svals[idx], tvals[idx], track_point[0], track_point[1], phi, np.cos(phi), np.sin(phi), g_upper, g_lower])\n",
    "\n",
    "table = np.array(table)\n",
    "#plot_track(table)\n",
    "print(\"Variables stored in following order = \", names_table)\n",
    "np.savetxt(str(track) + '_lutab.csv', table, delimiter = ', ')\n",
    "\n",
    "dict = {'smax': float(smax)}\n",
    "with open(r''+track+'_params.yaml', 'w') as file:\n",
    "    documents = yaml.dump(dict, file)"
   ]
  },
  {
   "cell_type": "code",
   "execution_count": 6,
   "metadata": {},
   "outputs": [
    {
     "ename": "NameError",
     "evalue": "name 'smax' is not defined",
     "output_type": "error",
     "traceback": [
      "\u001B[0;31m---------------------------------------------------------------------------\u001B[0m",
      "\u001B[0;31mNameError\u001B[0m                                 Traceback (most recent call last)",
      "\u001B[0;32m<ipython-input-6-da8e23c1383e>\u001B[0m in \u001B[0;36m<module>\u001B[0;34m\u001B[0m\n\u001B[0;32m----> 1\u001B[0;31m \u001B[0msmax\u001B[0m\u001B[0;34m\u001B[0m\u001B[0;34m\u001B[0m\u001B[0m\n\u001B[0m",
      "\u001B[0;31mNameError\u001B[0m: name 'smax' is not defined"
     ]
    }
   ],
   "source": [
    "smax"
   ]
  },
  {
   "cell_type": "code",
   "execution_count": 7,
   "metadata": {},
   "outputs": [
    {
     "ename": "NameError",
     "evalue": "name 'eval_raw' is not defined",
     "output_type": "error",
     "traceback": [
      "\u001B[0;31m---------------------------------------------------------------------------\u001B[0m",
      "\u001B[0;31mNameError\u001B[0m                                 Traceback (most recent call last)",
      "\u001B[0;32m<ipython-input-7-0a4d55a15f0e>\u001B[0m in \u001B[0;36m<module>\u001B[0;34m\u001B[0m\n\u001B[0;32m----> 1\u001B[0;31m \u001B[0meval_raw\u001B[0m\u001B[0;34m(\u001B[0m\u001B[0mwaypoints\u001B[0m\u001B[0;34m,\u001B[0m \u001B[0ma\u001B[0m\u001B[0;34m,\u001B[0m \u001B[0mb\u001B[0m\u001B[0;34m,\u001B[0m \u001B[0;36m0\u001B[0m\u001B[0;34m)\u001B[0m\u001B[0;34m\u001B[0m\u001B[0;34m\u001B[0m\u001B[0m\n\u001B[0m",
      "\u001B[0;31mNameError\u001B[0m: name 'eval_raw' is not defined"
     ]
    }
   ],
   "source": [
    "eval_raw(waypoints, a, b, 0)"
   ]
  },
  {
   "cell_type": "code",
   "execution_count": 20,
   "metadata": {},
   "outputs": [],
   "source": [
    "npoints = 200\n",
    "a, b = interpolate(waypoints)\n",
    "coords =[]\n",
    "tvals = np.linspace(0, len(waypoints), npoints+1)\n",
    "for t in tvals:\n",
    "    coords.append(eval_raw(waypoints, a, b, t))\n",
    "\n",
    "coords = np.array(coords)\n",
    "coords.shape\n",
    "\n",
    "fig, ax = plt.subplots(1)\n",
    "sct = ax.scatter(waypoints[:,0], waypoints[:,1])"
   ]
  },
  {
   "cell_type": "code",
   "execution_count": 21,
   "metadata": {},
   "outputs": [],
   "source": [
    "sct.remove()\n",
    "plt.show()"
   ]
  },
  {
   "cell_type": "code",
   "execution_count": null,
   "metadata": {},
   "outputs": [],
   "source": []
  },
  {
   "cell_type": "code",
   "execution_count": 74,
   "metadata": {},
   "outputs": [],
   "source": [
    "#downsample\n",
    "downsampling = 20\n",
    "coords = table[:, 2:4]\n",
    "phis = table[::downsampling, 4]\n",
    "svals = table[::downsampling, 0]\n",
    "tvals = table[::downsampling, 1]\n",
    "cos_phi = table[::downsampling, 5]\n",
    "sin_phi = table[::downsampling, 6]\n",
    "gvals = table[::downsampling, 7]\n",
    "\n",
    "\n",
    "dists = []\n",
    "dists.append(0)\n",
    "npoints = len(coords)\n",
    "for idx in range(npoints-1):\n",
    "    dists.append(np.sqrt(np.sum(np.square(coords[idx,:]-coords[np.mod(idx+1,npoints-1),:]))))\n",
    "dists = np.cumsum(np.array(dists))\n",
    "dists = dists[::downsampling]\n",
    "coords = coords[::downsampling]\n",
    "npoints = len(coords)\n",
    "\n",
    "plt.figure()\n",
    "plt.plot(svals, dists)\n",
    "plt.plot([0, svals[-1]], [0, svals[-1]])\n",
    "plt.xlabel(\"t (Bezier param corrected) [m]\")\n",
    "plt.ylabel(\"s (approx. distance traveled) [m] \")\n",
    "plt.legend([\"arclength vs t_corr\",\"x=y\"])\n",
    "\n",
    "plt.figure()\n",
    "len_indicator = 0.05\n",
    "downsampling = 10\n",
    "plt.plot(table[:,2],table[:,3])\n",
    "plt.scatter(table[::downsampling,2],table[::downsampling,3], marker = 'o' )\n",
    "for idx in range(npoints):\n",
    "    n = [-sin_phi[idx], cos_phi[idx]]\n",
    "    g = gvals[idx]\n",
    "    lm = 0.001\n",
    "    baseupper = [(coords[idx,0]-lm ), (g-n[0]*(coords[idx,0]-lm )) / n[1]]\n",
    "    endupper = [(coords[idx,0]+lm ), (g-n[0]*(coords[idx,0]+lm )) / n[1]]\n",
    "    base = coords[idx,:]\n",
    "    end = len_indicator * np.array([cos_phi[idx], sin_phi[idx]]) + base\n",
    "    plt.plot([base[0], end[0]],[base[1], end[1]], color = 'r')\n",
    "    #plt.plot([baseupper[0], endupper[0]],[baseupper[1], endupper[1]], color = 'g')\n",
    "plt.show(block=False)\n"
   ]
  },
  {
   "cell_type": "code",
   "execution_count": 29,
   "metadata": {},
   "outputs": [
    {
     "data": {
      "text/plain": [
       "array([ 0.        ,  0.1984749 ,  0.3986771 ,  0.59838296,  0.79700848,\n",
       "        0.9952915 ,  1.18969176,  1.38956188,  1.58858645,  1.78875253,\n",
       "        1.98886343,  2.18905512,  2.38925822,  2.58946994,  2.78965431,\n",
       "        2.9898368 ,  3.18996146,  3.38995369,  3.58959335,  3.78878301,\n",
       "        3.98857144,  4.1886323 ,  4.38879225,  4.58899766,  4.789099  ,\n",
       "        4.98928677,  5.18946982,  5.38957978,  5.58950904,  5.78892655,\n",
       "        5.98832714,  6.18822266,  6.38831363,  6.5884839 ,  6.78867102,\n",
       "        6.98886877,  7.18907419,  7.38928889,  7.5895047 ,  7.78972052,\n",
       "        7.98993526,  8.19014117,  8.39033939,  8.59052785,  8.7906978 ,\n",
       "        8.99078614,  9.19067401,  9.39006284,  9.58949323,  9.78942975,\n",
       "        9.98954173, 10.1897251 , 10.38990719, 10.59002003, 10.79023117,\n",
       "       10.99040611, 11.19047754, 11.50623412, 11.81699493])"
      ]
     },
     "execution_count": 29,
     "metadata": {},
     "output_type": "execute_result"
    }
   ],
   "source": [
    "dists"
   ]
  },
  {
   "cell_type": "code",
   "execution_count": 23,
   "metadata": {},
   "outputs": [
    {
     "data": {
      "text/plain": [
       "0.5"
      ]
     },
     "execution_count": 23,
     "metadata": {},
     "output_type": "execute_result"
    }
   ],
   "source": [
    "np.mod(6,5.5)"
   ]
  },
  {
   "cell_type": "code",
   "execution_count": 35,
   "metadata": {},
   "outputs": [
    {
     "data": {
      "text/plain": [
       "array([11.6025332 , 18.        ,  0.24994321,  0.2500401 ,  0.        ,\n",
       "        1.        ,  0.        ,  0.3500401 ,  0.1500401 ])"
      ]
     },
     "execution_count": 35,
     "metadata": {},
     "output_type": "execute_result"
    }
   ],
   "source": [
    "table[-1, :]"
   ]
  },
  {
   "cell_type": "code",
   "execution_count": 34,
   "metadata": {},
   "outputs": [
    {
     "data": {
      "text/plain": [
       "array([ 0.        ,  0.        ,  0.25      ,  0.25      , -0.49645607,\n",
       "        0.8792761 , -0.47631244,  0.43889713,  0.23889713])"
      ]
     },
     "execution_count": 34,
     "metadata": {},
     "output_type": "execute_result"
    }
   ],
   "source": [
    "table[0,:]"
   ]
  },
  {
   "cell_type": "code",
   "execution_count": null,
   "metadata": {},
   "outputs": [],
   "source": []
  },
  {
   "cell_type": "code",
   "execution_count": null,
   "metadata": {},
   "outputs": [],
   "source": []
  },
  {
   "cell_type": "code",
   "execution_count": null,
   "metadata": {},
   "outputs": [],
   "source": []
  },
  {
   "cell_type": "code",
   "execution_count": null,
   "metadata": {},
   "outputs": [],
   "source": []
  },
  {
   "cell_type": "code",
   "execution_count": null,
   "metadata": {},
   "outputs": [],
   "source": []
  },
  {
   "cell_type": "code",
   "execution_count": null,
   "metadata": {},
   "outputs": [],
   "source": []
  },
  {
   "cell_type": "code",
   "execution_count": null,
   "metadata": {},
   "outputs": [],
   "source": []
  },
  {
   "cell_type": "code",
   "execution_count": 44,
   "metadata": {},
   "outputs": [
    {
     "data": {
      "text/plain": [
       "array([0.5, 1. , 2. , 3. , 4. , 5. , 6. , 7. , 7.5, 8. , 8. , 8. , 8. ,\n",
       "       7.5, 7. , 6. , 5. , 4. , 3. , 2. , 1. , 0.5, 0. , 0. , 0. , 0. ,\n",
       "       0.5, 1. , 2. , 3. , 4. , 5. , 6. , 7. , 7.5, 8. , 8. , 8. , 8. ,\n",
       "       7.5, 7. , 6. , 5. , 4. , 3. , 2. , 1. , 0.5, 0. , 0. , 0. , 0. ])"
      ]
     },
     "execution_count": 44,
     "metadata": {},
     "output_type": "execute_result"
    }
   ],
   "source": [
    "np.hstack((trackx, trackx))"
   ]
  },
  {
   "cell_type": "code",
   "execution_count": 45,
   "metadata": {},
   "outputs": [
    {
     "data": {
      "text/plain": [
       "(26,)"
      ]
     },
     "execution_count": 45,
     "metadata": {},
     "output_type": "execute_result"
    }
   ],
   "source": [
    "trackx.shape"
   ]
  },
  {
   "cell_type": "code",
   "execution_count": null,
   "metadata": {},
   "outputs": [],
   "source": []
  },
  {
   "cell_type": "code",
   "execution_count": 2,
   "metadata": {},
   "outputs": [
    {
     "ename": "NameError",
     "evalue": "name 'paramfile' is not defined",
     "output_type": "error",
     "traceback": [
      "\u001B[0;31m---------------------------------------------------------------------------\u001B[0m",
      "\u001B[0;31mNameError\u001B[0m                                 Traceback (most recent call last)",
      "\u001B[0;32m<ipython-input-2-4ca3423bb864>\u001B[0m in \u001B[0;36m<module>\u001B[0;34m\u001B[0m\n\u001B[0;32m----> 1\u001B[0;31m \u001B[0mmodel\u001B[0m\u001B[0;34m,\u001B[0m \u001B[0mconstraints\u001B[0m \u001B[0;34m=\u001B[0m \u001B[0mdynamic_model\u001B[0m\u001B[0;34m(\u001B[0m\u001B[0mparamfile\u001B[0m\u001B[0;34m,\u001B[0m \u001B[0mtrack_lu_table\u001B[0m\u001B[0;34m)\u001B[0m\u001B[0;34m\u001B[0m\u001B[0;34m\u001B[0m\u001B[0m\n\u001B[0m",
      "\u001B[0;31mNameError\u001B[0m: name 'paramfile' is not defined"
     ]
    }
   ],
   "source": [
    "model, constraints = dynamic_model(paramfile, track_lu_table)\n"
   ]
  },
  {
   "cell_type": "code",
   "execution_count": 5,
   "metadata": {},
   "outputs": [],
   "source": [
    "array = np.array([[1,2,3,4,5],[11,12,31,14,15]]).T"
   ]
  },
  {
   "cell_type": "code",
   "execution_count": 12,
   "metadata": {},
   "outputs": [
    {
     "data": {
      "text/plain": [
       "array([[11,  1],\n",
       "       [12,  2],\n",
       "       [31,  3],\n",
       "       [14,  4],\n",
       "       [15,  5]])"
      ]
     },
     "execution_count": 12,
     "metadata": {},
     "output_type": "execute_result"
    }
   ],
   "source": [
    "np.vstack((array[:,1],array[:,0])).T"
   ]
  },
  {
   "cell_type": "code",
   "execution_count": 31,
   "metadata": {},
   "outputs": [
    {
     "data": {
      "text/plain": [
       "Text(0.5, 0, 'lateral velocity vy [m/s]')"
      ]
     },
     "execution_count": 31,
     "metadata": {},
     "output_type": "execute_result"
    },
    {
     "data": {
      "text/plain": [
       "<Figure size 432x288 with 0 Axes>"
      ]
     },
     "metadata": {},
     "output_type": "display_data"
    },
    {
     "data": {
      "image/png": "[encoded data removed]",
      "text/plain": [
       "<Figure size 432x288 with 2 Axes>"
      ]
     },
     "metadata": {
      "needs_background": "light"
     },
     "output_type": "display_data"
    }
   ],
   "source": [
    "\n",
    "import numpy as np\n",
    "import matplotlib.pyplot as plt\n",
    "import yaml\n",
    "\n",
    "modelparams = \"modelparams.yaml\"\n",
    "#loadparameters\n",
    "with open(modelparams) as file:\n",
    "    params = yaml.load(file, Loader= yaml.FullLoader)\n",
    "\n",
    "m = params['m'] #[kg]\n",
    "lf = params['lf'] #[m]\n",
    "lr = params['lr'] #[m]\n",
    "Iz = params['Iz'] #[kg*m^3]\n",
    "\n",
    "#pajecka and motor coefficients\n",
    "Bf = params['Bf']\n",
    "Br = params['Br']\n",
    "Cf = params['Cf']\n",
    "Cr = params['Cr']\n",
    "Cm1 = params['Cm1']\n",
    "Cm2 = params['Cm2']\n",
    "Cr = params['Cr']\n",
    "Cd = params['Cd']\n",
    "Df = params['Df']\n",
    "Dr = params['Dr']\n",
    "\n",
    "vy_vals = np.linspace(-4, 4, 100)\n",
    "vx = 2\n",
    "omega = 0\n",
    "delta = 0\n",
    "\n",
    "ffy_vals = Df*np.sin(Cf*np.arctan(-Bf*np.arctan(vy_vals/vx)))\n",
    "fry_vals = Dr*np.sin(Cr*np.arctan(Br*np.arctan(-vy_vals/vx)))\n",
    "\n",
    "plt.figure()\n",
    "fig, (ax1, ax2) = plt.subplots(nrows = 2, ncols = 1)\n",
    "ax1.plot(vy_vals,ffy_vals)\n",
    "ax1.set_xlabel(\"lateral velocity vy [m/s]\")\n",
    "ax1.set_ylabel(\"lateral tire force Ffy [N]\")\n",
    "ax2.plot(vy_vals, fry_vals)\n",
    "ax2.set_xlabel(\"lateral velocity vy [m/s]\")\n",
    "ax2.set_ylabel(\"lateral tire force Fry [N]\")"
   ]
  },
  {
   "cell_type": "code",
   "execution_count": 38,
   "metadata": {},
   "outputs": [],
   "source": [
    "np.savetxt(\"yallah.csv\", ffy_vals,  delimiter = \",\")"
   ]
  },
  {
   "cell_type": "code",
   "execution_count": 9,
   "metadata": {},
   "outputs": [],
   "source": [
    "from casadi import *\n",
    "import Bezier\n",
    "\n",
    "\n",
    "'''\n",
    "#load track\n",
    "waypoints = Bezier.getwaypoints(track)\n",
    "#abez,bbez coeffs\n",
    "a_bez, b_bez = Bezier.interpolate(waypoints)\n",
    "order_inverse = 4\n",
    "norm_inverse = 2\n",
    "coeffs = Bezier.fit_st(order_inverse, norm_inverse, waypoints)\n",
    "'''\n",
    "# define casadi struct\n",
    "model = types.SimpleNamespace()\n",
    "constraints = types.SimpleNamespace()\n",
    "\n",
    "model_name = \"f110_dynamic_model\"\n",
    "model.name = model_name\n",
    "#loadparameters\n",
    "m = 2 #[kg]\n",
    "lf = 0.1 #[m]\n",
    "lr = 0.1 #[m]\n",
    "Iz = 1 #[kg*m^3]\n",
    "\n",
    "#pajecka and motor coefficients\n",
    "Bf = 1\n",
    "Br = 1\n",
    "Cf = 1\n",
    "Cr = 1\n",
    "Cm1 = 1\n",
    "Cm2 = 2\n",
    "Cr = 1\n",
    "Cd = 1\n",
    "Df = 1\n",
    "Dr = 1\n",
    "\n",
    "\n",
    "#parameter vector\n",
    "xt =  SX.sym(\"xt\")\n",
    "yt =  SX.sym(\"yt\")\n",
    "phit = SX.sym(\"phit\")\n",
    "sin_phit = SX.sym(\"sin_phit\")\n",
    "cos_phit = SX.sym(\"cos_phit\")\n",
    "gt_upper = SX.sym(\"gt_upper\")\n",
    "gt_lower = SX.sym(\"gt_lower\")\n",
    "#stores linearization point\n",
    "theta_hat = SX.sym(\"theta_hat\")\n",
    "Qc = SX.sym(\"Qc\")\n",
    "Ql = SX.sym(\"Ql\")\n",
    "Q_theta = SX.sym(\"Q_theta\")\n",
    "\n",
    "#cost on smoothnes of motorinput\n",
    "R_d = SX.sym(\"R_d\")\n",
    "\n",
    "#cost on smoothness of steering_angle\n",
    "R_delta = SX.sym(\"R_delta\")\n",
    "\n",
    "p = vertcat(xt, yt, phit, sin_phit, cos_phit, gt_upper, gt_lower, theta_hat, Qc, Ql, Q_theta, R_d, R_delta)\n",
    "\n",
    "\n",
    "#single track model with pajecka tireforces as in  Optimization-Based Autonomous Racing of 1:43 Scale RC Cars Alexander Liniger, Alexander Domahidi and Manfred Morari\n",
    "#pose\n",
    "posx = SX.sym(\"posx\")\n",
    "posy = SX.sym(\"posy\")\n",
    "\n",
    "\n",
    "#vel (long and lateral)\n",
    "vx = SX.sym(\"vx\")\n",
    "vy = SX.sym(\"vy\")\n",
    "\n",
    "#body angular Rate\n",
    "omega = SX.sym(\"omega\")\n",
    "#heading\n",
    "phi = SX.sym(\"phi\")\n",
    "\n",
    "#steering_angle\n",
    "delta = SX.sym(\"delta\")\n",
    "deltadot = SX.sym(\"delta\")\n",
    "#motorinput\n",
    "d = SX.sym(\"d\")\n",
    "ddot = SX.sym(\"ddot\")\n",
    "\n",
    "#inputvector\n",
    "u = vertcat(ddot, deltadot, thetadot)\n",
    "\n",
    "#dynamic forces\n",
    "Frx = SX.sym(\"Frx\")\n",
    "Fry = SX.sym(\"Fry\")\n",
    "Ffx = SX.sym(\"Ffx\")\n",
    "Ffy = SX.sym(\"Ffy\")\n",
    "\n",
    "#arclength progress\n",
    "theta = SX.sym(\"theta\")\n",
    "\n",
    "#temporal derivatives\n",
    "posxdot = SX.sym(\"xdot\")\n",
    "posydot = SX.sym(\"ydot\")\n",
    "vxdot = SX.sym(\"vxdot\")\n",
    "vydot = SX.sym(\"vydot\")\n",
    "phidot = SX.sym(\"phidot\")\n",
    "omegadot = SX.sym(\"omegadot\")\n",
    "deltadot = SX.sym(\"deltadot\")\n",
    "thetadot = SX.sym(\"thetadot\")\n",
    "\n",
    "#car state Dynamics\n",
    "x = vertcat(\n",
    "    posx,\n",
    "    posy,\n",
    "    phi,\n",
    "    vx,\n",
    "    vy,\n",
    "    omega,\n",
    "    theta,\n",
    "    d,\n",
    "    delta\n",
    "    )\n",
    "\n",
    "xdot = vertcat(\n",
    "    posxdot,\n",
    "    posydot,\n",
    "    phidot,\n",
    "    vxdot,\n",
    "    vydot,\n",
    "    omegadot,\n",
    "    thetadot,\n",
    "    ddot,\n",
    "    deltadot\n",
    "    )\n",
    "\n",
    "#front lateral tireforce\n",
    "alphaf = -atan((omega*lf + vy)/vx) + delta\n",
    "Ffy = Df*sin(Cf*atan(Bf*alphaf))\n",
    "\n",
    "#rear lateral tireforce\n",
    "alphar = atan((omega*lr - vy)/vx)\n",
    "Fry = Dr*sin(Cf*atan(Br*alphar))\n",
    "\n",
    "#rear longitudinal forces\n",
    "Frx = (Cm1-Cm2*vx) * d - Cr -Cd*vx**2\n",
    "\n",
    "f_expl = vertcat(\n",
    "    vx*cos(phi) - vy * sin(phi),\n",
    "    vx*sin(phi) + vy * cos(phi),\n",
    "    omega,\n",
    "    1/m * (Frx - Fry*sin(delta) + m*vy*omega),\n",
    "    1/m * (Fry + Fry*cos(delta) - m*vx*omega),\n",
    "    1/Iz * (Ffy*lf*cos(delta) - Fry*lr),\n",
    "    thetadot,\n",
    "    ddot,\n",
    "    deltadot\n",
    "    )\n",
    "\n",
    "\n",
    "model.f_expl_expr = f_expl\n",
    "model.f_impl_expr = xdot - f_expl\n",
    "model.x = x\n",
    "model.xdot = xdot\n",
    "model.u = u\n",
    "model.p = p\n",
    "\n",
    "#boxconstraints\n",
    "model.d_min = -1.0\n",
    "model.d_max = 1.0\n",
    "\n",
    "model.ddot_min = -10.0\n",
    "model.ddot_max = 10.0\n",
    "\n",
    "model.delta_min = -0.40  # minimum steering angle [rad]\n",
    "model.delta_max = 0.40  # maximum steering angle [rad]\n",
    "\n",
    "model.deltadot_min = -2  # minimum steering angle [rad]\n",
    "model.deltadot_max = 2 # maximum steering angle [rad]\n",
    "\n",
    "\n",
    "#halfspace constraints on x capturing the track at each stage\n",
    "n = vertcat(-sin_phit, cos_phit)\n",
    "constraints.h_upper = vertcat(0,0)\n",
    "g_upper = vertcat(gt_upper, -gt_lower)\n",
    "model.con_h_expr = vertcat(n[0]*x[0]+n[1]*x[1]-g_upper[0], -n[0]*x[0]-n[1]*x[1]-g_upper[1])\n",
    "\n",
    "#compute approximate linearized contouring and lag error\n",
    "xt_hat = xt + cos_phit * ( theta - theta_hat)\n",
    "yt_hat = yt + sin_phit * ( theta - theta_hat)\n",
    "\n",
    "e_cont = sin_phit * (posx - xt_hat) - cos_phit * (posy - yt_hat)\n",
    "e_lag = -cos_phit * (posx - xt_hat) - sin_phit * (posy - yt_hat)\n",
    "\n",
    "error = vertcat(e_cont, e_lag)\n",
    "#set up stage cost\n",
    "Q = diag(vertcat(Qc, Ql))\n",
    "model.stage_cost = bilin(Q, error, error) - Q_theta * thetadot + bilin(R_d , ddot, ddot) + bilin(R_delta , deltadot, deltadot)"
   ]
  },
  {
   "cell_type": "code",
   "execution_count": 11,
   "metadata": {},
   "outputs": [
    {
     "data": {
      "text/plain": [
       "(2, 1)"
      ]
     },
     "execution_count": 11,
     "metadata": {},
     "output_type": "execute_result"
    }
   ],
   "source": [
    "model.con_h_expr.shape\n"
   ]
  },
  {
   "cell_type": "code",
   "execution_count": 2,
   "metadata": {},
   "outputs": [],
   "source": [
    "# define casadi struct\n",
    "model = types.SimpleNamespace()\n",
    "constraints = types.SimpleNamespace()\n",
    "\n",
    "model_name = \"f110_dynamic_model\"\n",
    "#loadparameters\n",
    "m = 2 #[kg]\n",
    "lf = 0.1 #[m]\n",
    "lr = 0.1 #[m]\n",
    "Iz = 1 #[kg*m^3]\n",
    "\n",
    "#pajecka and motor coefficients\n",
    "Bf = 1\n",
    "Br = 1\n",
    "Cf = 1\n",
    "Cr = 1\n",
    "Cm1 = 1\n",
    "Cm2 = 2\n",
    "Cr = 1\n",
    "Cd = 1\n",
    "Df = 1\n",
    "Dr = 1\n",
    "\n",
    "\n",
    "#parameter vector\n",
    "xt =  SX.sym(\"xt\")\n",
    "yt =  SX.sym(\"yt\")\n",
    "phit = SX.sym(\"phit\")\n",
    "sin_phit = SX.sym(\"sin_phit\")\n",
    "cos_phit = SX.sym(\"cos_phit\")\n",
    "gt_upper = SX.sym(\"gt_upper\")\n",
    "gt_lower = SX.sym(\"gt_lower\")\n",
    "#stores linearization point\n",
    "theta_hat = SX.sym(\"theta_hat\")\n",
    "Qc = SX.sym(\"Qc\")\n",
    "Ql = SX.sym(\"Ql\")\n",
    "R = SX.sym(\"R\")\n",
    "\n",
    "#single track model with pajecka tireforces as in  Optimization-Based Autonomous Racing of 1:43 Scale RC Cars Alexander Liniger, Alexander Domahidi and Manfred Morari\n",
    "#pose\n",
    "posx = SX.sym(\"posx\")\n",
    "posy = SX.sym(\"posy\")\n",
    "\n",
    "\n",
    "#vel (long and lateral)\n",
    "vx = SX.sym(\"vx\")\n",
    "vy = SX.sym(\"vy\")\n",
    "\n",
    "#body angular Rate\n",
    "omega = SX.sym(\"omega\")\n",
    "#heading\n",
    "phi = SX.sym(\"phi\")\n",
    "\n",
    "#virtual input projected track velocity\n",
    "vt = SX.sym(\"vt\")\n",
    "\n",
    "#steering_angle\n",
    "delta = SX.sym(\"delta\")\n",
    "\n",
    "#motorinput\n",
    "d = SX.sym(\"d\")\n",
    "\n",
    "#dynamic forces\n",
    "Frx = SX.sym(\"Frx\")\n",
    "Fry = SX.sym(\"Fry\")\n",
    "Ffx = SX.sym(\"Ffx\")\n",
    "Ffy = SX.sym(\"Ffy\")\n",
    "\n",
    "#arclength progress\n",
    "theta = SX.sym(\"theta\")\n",
    "\n",
    "#temporal derivatives\n",
    "posxdot = SX.sym(\"xdot\")\n",
    "posydot = SX.sym(\"ydot\")\n",
    "vxdot = SX.sym(\"vxdot\")\n",
    "vydot = SX.sym(\"vydot\")\n",
    "phidot = SX.sym(\"phidot\")\n",
    "omegadot = SX.sym(\"omegadot\")\n",
    "thetadot = SX.sym(\"thetadot\")\n",
    "deltadot = SX.sym(\"deltadot\")\n",
    "\n",
    "#car state Dynamics\n",
    "x = vertcat(\n",
    "    posx,\n",
    "    posy,\n",
    "    phi,\n",
    "    vx,\n",
    "    vy,\n",
    "    omega,\n",
    "    theta\n",
    "    )\n",
    "\n",
    "xdot = vertcat(\n",
    "    posxdot,\n",
    "    posydot,\n",
    "    phidot,\n",
    "    vxdot,\n",
    "    vydot,\n",
    "    omegadot,\n",
    "    thetadot\n",
    "    )\n",
    "\n",
    "\n",
    "\n",
    "#front lateral tireforce\n",
    "alphaf = -atan((omega*lf + vy)/vx) + delta\n",
    "Ffy = Df*sin(Cf*atan(Bf*alphaf))\n",
    "\n",
    "#rear lateral tireforce\n",
    "alphar = atan((omega*lr - vy)/vx)\n",
    "Fry = Dr*sin(Cf*atan(Br*alphar))\n",
    "\n",
    "#rear longitudinal forces\n",
    "Frx = (Cm1-Cm2*vx) * d - Cr -Cd*vx**2\n",
    "\n",
    "f_expl = vertcat(\n",
    "    vx*cos(phi) - vy * sin(phi),\n",
    "    vx*sin(phi) + vy * cos(phi),\n",
    "    omega,\n",
    "    1/m * (Frx - Fry*sin(delta) + m*vy*omega),\n",
    "    1/m * (Fry + Fry*cos(delta) - m*vx*omega),\n",
    "    1/Iz * (Ffy*lf*cos(delta) - Fry*lr),\n",
    "    vt\n",
    "    )\n",
    "\n",
    "\n",
    "model.f_expl_expr = f_expl\n",
    "model.f_impl_expr = xdot - f_expl\n",
    "model.x = x\n",
    "\n",
    "#halfspace constraints on x capturing the track\n",
    "n = vertcat(-sin_phit, cos_phit)\n",
    "constraints.C = np.matrix([[n[0], n[1], 0, 0, 0, 0, 0],  [-n[0], -n[1], 0, 0, 0, 0, 0]])\n",
    "constraints.ge_upper = vertcat(gt_upper, -gt_lower)\n",
    "\n",
    "\n",
    "#compute approximate linearized contouring and lag error\n",
    "xt_hat = xt + cos_phit * ( theta - theta_hat)\n",
    "yt_hat = yt + sin_phit * ( theta - theta_hat)\n",
    "\n",
    "e_cont = sin_phit * (posx - xt_hat) - cos_phit * (posy - yt_hat)\n",
    "e_lag = -cos_phit * (posx - xt_hat) - sin_phit * (posy - yt_hat)\n",
    "\n",
    "error = vertcat(e_cont, e_lag)\n",
    "#set up stage cost\n",
    "Q = diag(vertcat(Qc, Ql))\n",
    "model.stage_cost = bilin(Q, error, error)\n"
   ]
  },
  {
   "cell_type": "code",
   "execution_count": 3,
   "metadata": {},
   "outputs": [
    {
     "data": {
      "text/plain": [
       "SX(\n",
       "[[Qc, 00], \n",
       " [00, Ql]])"
      ]
     },
     "execution_count": 3,
     "metadata": {},
     "output_type": "execute_result"
    }
   ],
   "source": [
    "Q"
   ]
  },
  {
   "cell_type": "code",
   "execution_count": null,
   "metadata": {},
   "outputs": [],
   "source": []
  },
  {
   "cell_type": "code",
   "execution_count": 43,
   "metadata": {},
   "outputs": [
    {
     "ename": "RuntimeError",
     "evalue": ".../casadi/core/function_internal.cpp:70: Function name is not valid. A valid function name is a string starting with a letter followed by letters, numbers or non-consecutive underscores. It may also not match the keywords 'null', 'jac' or 'hess'. Got ''",
     "output_type": "error",
     "traceback": [
      "\u001B[0;31m---------------------------------------------------------------------------\u001B[0m",
      "\u001B[0;31mRuntimeError\u001B[0m                              Traceback (most recent call last)",
      "\u001B[0;32m<ipython-input-43-cd4cfe8f8915>\u001B[0m in \u001B[0;36m<module>\u001B[0;34m\u001B[0m\n\u001B[1;32m      1\u001B[0m \u001B[0mtvals\u001B[0m \u001B[0;34m=\u001B[0m \u001B[0mnp\u001B[0m\u001B[0;34m.\u001B[0m\u001B[0mlinspace\u001B[0m\u001B[0;34m(\u001B[0m\u001B[0;36m0\u001B[0m\u001B[0;34m,\u001B[0m \u001B[0;36m1\u001B[0m\u001B[0;34m,\u001B[0m \u001B[0;36m26\u001B[0m\u001B[0;34m)\u001B[0m\u001B[0;34m\u001B[0m\u001B[0;34m\u001B[0m\u001B[0m\n\u001B[0;32m----> 2\u001B[0;31m \u001B[0mkapparef_s\u001B[0m \u001B[0;34m=\u001B[0m \u001B[0minterpolant\u001B[0m\u001B[0;34m(\u001B[0m\u001B[0;34m\"kapparef_s\"\u001B[0m\u001B[0;34m,\u001B[0m\u001B[0;34m\"bspline\"\u001B[0m\u001B[0;34m,\u001B[0m \u001B[0;34m[\u001B[0m\u001B[0mtvals\u001B[0m\u001B[0;34m]\u001B[0m\u001B[0;34m,\u001B[0m \u001B[0mwaypoints\u001B[0m\u001B[0;34m[\u001B[0m\u001B[0;34m:\u001B[0m\u001B[0;34m,\u001B[0m\u001B[0;36m0\u001B[0m\u001B[0;34m]\u001B[0m\u001B[0;34m.\u001B[0m\u001B[0mtolist\u001B[0m\u001B[0;34m(\u001B[0m\u001B[0;34m)\u001B[0m\u001B[0;34m)\u001B[0m\u001B[0;34m\u001B[0m\u001B[0;34m\u001B[0m\u001B[0m\n\u001B[0m",
      "\u001B[0;32m~/anaconda3/lib/python3.7/site-packages/casadi/casadi.py\u001B[0m in \u001B[0;36minterpolant\u001B[0;34m(*args)\u001B[0m\n\u001B[1;32m  11104\u001B[0m \u001B[0;34m\u001B[0m\u001B[0m\n\u001B[1;32m  11105\u001B[0m     \"\"\"\n\u001B[0;32m> 11106\u001B[0;31m     \u001B[0;32mreturn\u001B[0m \u001B[0m_casadi\u001B[0m\u001B[0;34m.\u001B[0m\u001B[0minterpolant\u001B[0m\u001B[0;34m(\u001B[0m\u001B[0;34m*\u001B[0m\u001B[0margs\u001B[0m\u001B[0;34m)\u001B[0m\u001B[0;34m\u001B[0m\u001B[0;34m\u001B[0m\u001B[0m\n\u001B[0m\u001B[1;32m  11107\u001B[0m \u001B[0;34m\u001B[0m\u001B[0m\n\u001B[1;32m  11108\u001B[0m \u001B[0;32mdef\u001B[0m \u001B[0mhas_interpolant\u001B[0m\u001B[0;34m(\u001B[0m\u001B[0;34m*\u001B[0m\u001B[0margs\u001B[0m\u001B[0;34m)\u001B[0m \u001B[0;34m->\u001B[0m \u001B[0;34m\"bool\"\u001B[0m\u001B[0;34m:\u001B[0m\u001B[0;34m\u001B[0m\u001B[0;34m\u001B[0m\u001B[0m\n",
      "\u001B[0;31mRuntimeError\u001B[0m: .../casadi/core/function_internal.cpp:70: Function name is not valid. A valid function name is a string starting with a letter followed by letters, numbers or non-consecutive underscores. It may also not match the keywords 'null', 'jac' or 'hess'. Got ''"
     ]
    }
   ],
   "source": [
    "tvals = np.linspace(0, 1, 26)\n",
    "kapparef_s = interpolant(\"kapparef_s\",\"bspline\", [tvals], waypoints[:,0].tolist())\n"
   ]
  },
  {
   "cell_type": "code",
   "execution_count": 23,
   "metadata": {},
   "outputs": [
    {
     "data": {
      "text/plain": [
       "MX(vertcat(posxdot, posydot, phidot, vxdot, vydot, omegadot))"
      ]
     },
     "execution_count": 23,
     "metadata": {},
     "output_type": "execute_result"
    }
   ],
   "source": [
    "xdot"
   ]
  },
  {
   "cell_type": "code",
   "execution_count": 48,
   "metadata": {},
   "outputs": [],
   "source": [
    "# load track parameters\n",
    "track=\"LMS_Track.txt\"\n",
    "[s0, _, _, _, kapparef] = getTrack(track)\n",
    "length = len(s0)\n",
    "pathlength = s0[-1]\n",
    "\n"
   ]
  },
  {
   "cell_type": "code",
   "execution_count": null,
   "metadata": {},
   "outputs": [],
   "source": []
  },
  {
   "cell_type": "code",
   "execution_count": null,
   "metadata": {},
   "outputs": [],
   "source": []
  },
  {
   "cell_type": "code",
   "execution_count": null,
   "metadata": {},
   "outputs": [],
   "source": []
  },
  {
   "cell_type": "code",
   "execution_count": null,
   "metadata": {},
   "outputs": [],
   "source": []
  },
  {
   "cell_type": "code",
   "execution_count": null,
   "metadata": {},
   "outputs": [],
   "source": []
  },
  {
   "cell_type": "code",
   "execution_count": 51,
   "metadata": {},
   "outputs": [
    {
     "ename": "RuntimeError",
     "evalue": ".../casadi/core/function_internal.cpp:70: Function name is not valid. A valid function name is a string starting with a letter followed by letters, numbers or non-consecutive underscores. It may also not match the keywords 'null', 'jac' or 'hess'. Got ''",
     "output_type": "error",
     "traceback": [
      "\u001B[0;31m---------------------------------------------------------------------------\u001B[0m",
      "\u001B[0;31mRuntimeError\u001B[0m                              Traceback (most recent call last)",
      "\u001B[0;32m<ipython-input-51-e61fbf05e47c>\u001B[0m in \u001B[0;36m<module>\u001B[0;34m\u001B[0m\n\u001B[1;32m     10\u001B[0m \u001B[0;34m\u001B[0m\u001B[0m\n\u001B[1;32m     11\u001B[0m \u001B[0;31m# compute spline interpolations\u001B[0m\u001B[0;34m\u001B[0m\u001B[0;34m\u001B[0m\u001B[0;34m\u001B[0m\u001B[0m\n\u001B[0;32m---> 12\u001B[0;31m \u001B[0mkapparef_s\u001B[0m \u001B[0;34m=\u001B[0m \u001B[0minterpolant\u001B[0m\u001B[0;34m(\u001B[0m\u001B[0;34m\"kapparef_s\"\u001B[0m\u001B[0;34m,\u001B[0m \u001B[0;34m\"bspline\"\u001B[0m\u001B[0;34m,\u001B[0m \u001B[0;34m[\u001B[0m\u001B[0ms0\u001B[0m\u001B[0;34m]\u001B[0m\u001B[0;34m,\u001B[0m \u001B[0mkapparef\u001B[0m\u001B[0;34m)\u001B[0m\u001B[0;34m\u001B[0m\u001B[0;34m\u001B[0m\u001B[0m\n\u001B[0m",
      "\u001B[0;32m~/anaconda3/lib/python3.7/site-packages/casadi/casadi.py\u001B[0m in \u001B[0;36minterpolant\u001B[0;34m(*args)\u001B[0m\n\u001B[1;32m  11104\u001B[0m \u001B[0;34m\u001B[0m\u001B[0m\n\u001B[1;32m  11105\u001B[0m     \"\"\"\n\u001B[0;32m> 11106\u001B[0;31m     \u001B[0;32mreturn\u001B[0m \u001B[0m_casadi\u001B[0m\u001B[0;34m.\u001B[0m\u001B[0minterpolant\u001B[0m\u001B[0;34m(\u001B[0m\u001B[0;34m*\u001B[0m\u001B[0margs\u001B[0m\u001B[0;34m)\u001B[0m\u001B[0;34m\u001B[0m\u001B[0;34m\u001B[0m\u001B[0m\n\u001B[0m\u001B[1;32m  11107\u001B[0m \u001B[0;34m\u001B[0m\u001B[0m\n\u001B[1;32m  11108\u001B[0m \u001B[0;32mdef\u001B[0m \u001B[0mhas_interpolant\u001B[0m\u001B[0;34m(\u001B[0m\u001B[0;34m*\u001B[0m\u001B[0margs\u001B[0m\u001B[0;34m)\u001B[0m \u001B[0;34m->\u001B[0m \u001B[0;34m\"bool\"\u001B[0m\u001B[0;34m:\u001B[0m\u001B[0;34m\u001B[0m\u001B[0;34m\u001B[0m\u001B[0m\n",
      "\u001B[0;31mRuntimeError\u001B[0m: .../casadi/core/function_internal.cpp:70: Function name is not valid. A valid function name is a string starting with a letter followed by letters, numbers or non-consecutive underscores. It may also not match the keywords 'null', 'jac' or 'hess'. Got ''"
     ]
    }
   ],
   "source": [
    "# load track parameters\n",
    "[s0, _, _, _, kapparef] = getTrack(track)\n",
    "length = len(s0)\n",
    "pathlength = s0[-1]\n",
    "# copy loop to beginning and end\n",
    "s0 = np.append(s0, [s0[length - 1] + s0[1:length]])\n",
    "kapparef = np.append(kapparef, kapparef[1:length])\n",
    "s0 = np.append([-s0[length - 2] + s0[length - 81 : length - 2]], s0)\n",
    "kapparef = np.append(kapparef[length - 80 : length - 1], kapparef)\n",
    "\n",
    "# compute spline interpolations\n",
    "kapparef_s = interpolant(\"kapparef_s\", \"bspline\", [s0], kapparef)"
   ]
  },
  {
   "cell_type": "code",
   "execution_count": 53,
   "metadata": {},
   "outputs": [
    {
     "data": {
      "text/plain": [
       "array([-3.1307295, -3.1061956, -3.0436956, -2.9811956, -2.9186956,\n",
       "       -2.8561956, -2.7936956, -2.7311956, -2.6686956, -2.6061956,\n",
       "       -2.5816618, -2.557128 , -2.5325941, -2.5080603, -2.4835265,\n",
       "       -2.4589926, -2.4344588, -2.409925 , -2.3853911, -2.3608573,\n",
       "       -2.3363234, -2.3117896, -2.2872558, -2.2627219, -2.2381881,\n",
       "       -2.2136543, -2.1891204, -2.1645866, -2.1400527, -2.1155189,\n",
       "       -2.0909851, -2.0664512, -2.0419174, -2.0173836, -1.9928497,\n",
       "       -1.9683159, -1.943782 , -1.9192482, -1.8947144, -1.8701805,\n",
       "       -1.8456467, -1.8211129, -1.7586129, -1.6961129, -1.6336129,\n",
       "       -1.5711129, -1.5086129, -1.4461129, -1.3836129, -1.3211129,\n",
       "       -1.2586129, -1.1961129, -1.1336129, -1.0711129, -1.0086129,\n",
       "       -0.9461129, -0.8836129, -0.8211129, -0.796579 , -0.7720452,\n",
       "       -0.7475113, -0.7229775, -0.6984437, -0.6739098, -0.649376 ,\n",
       "       -0.6248422, -0.6003083, -0.5757745, -0.5512407, -0.5267068,\n",
       "       -0.502173 , -0.4776391, -0.4531053, -0.4285715, -0.3571429,\n",
       "       -0.2857143, -0.2142858, -0.1428572, -0.0714286,  0.       ,\n",
       "        0.0625   ,  0.125    ,  0.1875   ,  0.25     ,  0.3125   ,\n",
       "        0.375    ,  0.4375   ,  0.5      ,  0.5625   ,  0.625    ,\n",
       "        0.6875   ,  0.75     ,  0.8125   ,  0.875    ,  0.9375   ,\n",
       "        1.       ,  1.0245338,  1.0490677,  1.0736015,  1.0981353,\n",
       "        1.1226692,  1.147203 ,  1.1717369,  1.1962707,  1.2208045,\n",
       "        1.2453384,  1.2698722,  1.294406 ,  1.3189399,  1.3434737,\n",
       "        1.3680076,  1.3925414,  1.4170752,  1.4416091,  1.4661429,\n",
       "        1.4906767,  1.5152106,  1.5397444,  1.5642783,  1.5888121,\n",
       "        1.6133459,  1.6378798,  1.6624136,  1.6869474,  1.7114813,\n",
       "        1.7360151,  1.760549 ,  1.7850828,  1.8096166,  1.8341505,\n",
       "        1.8586843,  1.8832181,  1.907752 ,  1.9322858,  1.9568196,\n",
       "        1.9813535,  2.0058873,  2.0304212,  2.054955 ,  2.0794888,\n",
       "        2.1040227,  2.1285565,  2.1530903,  2.1776242,  2.202158 ,\n",
       "        2.2266919,  2.2512257,  2.2757595,  2.3002934,  2.3248272,\n",
       "        2.349361 ,  2.3738949,  2.3984287,  2.4229626,  2.4474964,\n",
       "        2.4720302,  2.4965641,  2.5210979,  2.5456317,  2.5701656,\n",
       "        2.5946994,  2.6192333,  2.6437671,  2.6683009,  2.6928348,\n",
       "        2.7173686,  2.7419024,  2.7664363,  2.7909701,  2.815504 ,\n",
       "        2.8400378,  2.8645716,  2.8891055,  2.9136393,  2.9381731,\n",
       "        2.962707 ,  2.9872408,  3.0117746,  3.0363085,  3.0608423,\n",
       "        3.0853762,  3.10991  ,  3.1344438,  3.1589777,  3.1835115,\n",
       "        3.2080453,  3.2325792,  3.257113 ,  3.2816469,  3.3061807,\n",
       "        3.3307145,  3.3552484,  3.4177484,  3.4802484,  3.5427484,\n",
       "        3.6052484,  3.6677484,  3.7302484,  3.7927484,  3.8552484,\n",
       "        3.8797822,  3.904316 ,  3.9288499,  3.9533837,  3.9779176,\n",
       "        4.0024514,  4.0269852,  4.0515191,  4.0760529,  4.1005867,\n",
       "        4.1251206,  4.1496544,  4.1741883,  4.1987221,  4.2232559,\n",
       "        4.2477898,  4.3102898,  4.3727898,  4.4352898,  4.4977898,\n",
       "        4.5602898,  4.6227898,  4.6852898,  4.7477898,  4.7723236,\n",
       "        4.7968574,  4.8213913,  4.8459251,  4.8704589,  4.8949928,\n",
       "        4.9195266,  4.9440605,  4.9685943,  4.9931281,  5.017662 ,\n",
       "        5.0421958,  5.0667296,  5.0912635,  5.1157973,  5.1403312,\n",
       "        5.164865 ,  5.1893988,  5.2139327,  5.2384665,  5.2630003,\n",
       "        5.2875342,  5.312068 ,  5.3366019,  5.3611357,  5.3856695,\n",
       "        5.4102034,  5.4347372,  5.459271 ,  5.4838049,  5.5083387,\n",
       "        5.5328726,  5.5953726,  5.6578726,  5.7203726,  5.7828726,\n",
       "        5.8453726,  5.9078726,  5.9703726,  6.0328726,  6.0574064,\n",
       "        6.0819402,  6.1064741,  6.1310079,  6.1555417,  6.1800756,\n",
       "        6.2046094,  6.2291432,  6.2536771,  6.2782109,  6.3027448,\n",
       "        6.3272786,  6.3518124,  6.3763463,  6.4008801,  6.4254139,\n",
       "        6.4499478,  6.4744816,  6.4990155,  6.5235493,  6.5480831,\n",
       "        6.572617 ,  6.5971508,  6.6216846,  6.6462185,  6.6707523,\n",
       "        6.6952862,  6.71982  ,  6.7443538,  6.7688877,  6.7934215,\n",
       "        6.8179553,  6.8804553,  6.9429553,  7.0054553,  7.0679553,\n",
       "        7.1304553,  7.1929553,  7.2554553,  7.3179553,  7.3804553,\n",
       "        7.4429553,  7.5054553,  7.5679553,  7.6304553,  7.6929553,\n",
       "        7.7554553,  7.8179553,  7.8424892,  7.867023 ,  7.8915569,\n",
       "        7.9160907,  7.9406245,  7.9651584,  7.9896922,  8.014226 ,\n",
       "        8.0387599,  8.0632937,  8.0878275,  8.1123614,  8.1368952,\n",
       "        8.1614291,  8.1859629,  8.2104967,  8.2819253,  8.3533539,\n",
       "        8.4247824,  8.496211 ,  8.5676396,  8.6390682,  8.7104967,\n",
       "        8.7729967,  8.8354967,  8.8979967,  8.9604967,  9.0229967,\n",
       "        9.0854967,  9.1479967,  9.2104967,  9.2729967,  9.3354967,\n",
       "        9.3979967,  9.4604967,  9.5229967,  9.5854967,  9.6479967,\n",
       "        9.7104967,  9.7350305,  9.7595644,  9.7840982,  9.808632 ,\n",
       "        9.8331659,  9.8576997,  9.8822336,  9.9067674,  9.9313012,\n",
       "        9.9558351,  9.9803689, 10.0049027, 10.0294366, 10.0539704,\n",
       "       10.0785043, 10.1030381, 10.1275719, 10.1521058, 10.1766396,\n",
       "       10.2011734, 10.2257073, 10.2502411, 10.274775 , 10.2993088,\n",
       "       10.3238426, 10.3483765, 10.3729103, 10.3974441, 10.421978 ,\n",
       "       10.4465118, 10.4710457, 10.4955795, 10.5201133, 10.5446472,\n",
       "       10.569181 , 10.5937148, 10.6182487, 10.6427825, 10.6673163,\n",
       "       10.6918502, 10.716384 , 10.7409179, 10.7654517, 10.7899855,\n",
       "       10.8145194, 10.8390532, 10.863587 , 10.8881209, 10.9126547,\n",
       "       10.9371886, 10.9617224, 10.9862562, 11.0107901, 11.0353239,\n",
       "       11.0598577, 11.0843916, 11.1089254, 11.1334593, 11.1579931,\n",
       "       11.1825269, 11.2070608, 11.2315946, 11.2561284, 11.2806623,\n",
       "       11.3051961, 11.32973  , 11.3542638, 11.3787976, 11.4033315,\n",
       "       11.4278653, 11.4523991, 11.476933 , 11.5014668, 11.5260007,\n",
       "       11.5505345, 11.5750683, 11.5996022, 11.624136 , 11.6486698,\n",
       "       11.6732037, 11.6977375, 11.7222713, 11.7468052, 11.771339 ,\n",
       "       11.7958729, 11.8204067, 11.8449405, 11.8694744, 11.8940082,\n",
       "       11.918542 , 11.9430759, 11.9676097, 11.9921436, 12.0166774,\n",
       "       12.0412112, 12.0657451, 12.1282451, 12.1907451, 12.2532451,\n",
       "       12.3157451, 12.3782451, 12.4407451, 12.5032451, 12.5657451,\n",
       "       12.5902789, 12.6148127, 12.6393466, 12.6638804, 12.6884143,\n",
       "       12.7129481, 12.7374819, 12.7620158, 12.7865496, 12.8110834,\n",
       "       12.8356173, 12.8601511, 12.884685 , 12.9092188, 12.9337526,\n",
       "       12.9582865, 13.0207865, 13.0832865, 13.1457865, 13.2082865,\n",
       "       13.2707865, 13.3332865, 13.3957865, 13.4582865, 13.4828203,\n",
       "       13.5073541, 13.531888 , 13.5564218, 13.5809556, 13.6054895,\n",
       "       13.6300233, 13.6545572, 13.679091 , 13.7036248, 13.7281587,\n",
       "       13.7526925, 13.7772263, 13.8017602, 13.826294 , 13.8508279,\n",
       "       13.8753617, 13.8998955, 13.9244294, 13.9489632, 13.973497 ,\n",
       "       13.9980309, 14.0225647, 14.0470986, 14.0716324, 14.0961662,\n",
       "       14.1207001, 14.1452339, 14.1697677, 14.1943016, 14.2188354,\n",
       "       14.2433693, 14.3058693, 14.3683693, 14.4308693, 14.4933693,\n",
       "       14.5558693, 14.6183693, 14.6808693, 14.7433693, 14.7679031,\n",
       "       14.7924369, 14.8169708, 14.8415046, 14.8660384, 14.8905723,\n",
       "       14.9151061, 14.9396399, 14.9641738, 14.9887076, 15.0132415,\n",
       "       15.0377753, 15.0623091, 15.086843 , 15.1113768, 15.1359106,\n",
       "       15.1604445, 15.1849783, 15.2095122, 15.234046 , 15.2585798,\n",
       "       15.2831137, 15.3076475, 15.3321813, 15.3567152, 15.381249 ,\n",
       "       15.4057829, 15.4303167, 15.4548505, 15.4793844, 15.5039182,\n",
       "       15.528452 , 15.590952 , 15.653452 , 15.715952 , 15.778452 ,\n",
       "       15.840952 , 15.903452 , 15.965952 , 16.028452 , 16.090952 ,\n",
       "       16.153452 , 16.215952 , 16.278452 , 16.340952 , 16.403452 ,\n",
       "       16.465952 , 16.528452 , 16.5529859, 16.5775197, 16.6020536,\n",
       "       16.6265874, 16.6511212, 16.6756551, 16.7001889, 16.7247227,\n",
       "       16.7492566, 16.7737904, 16.7983242, 16.8228581, 16.8473919,\n",
       "       16.8719258, 16.8964596, 16.9209934, 16.992422 , 17.0638506,\n",
       "       17.1352791, 17.2067077, 17.2781363, 17.3495649, 17.4209934])"
      ]
     },
     "execution_count": 53,
     "metadata": {},
     "output_type": "execute_result"
    }
   ],
   "source": [
    "s0"
   ]
  },
  {
   "cell_type": "code",
   "execution_count": null,
   "metadata": {},
   "outputs": [],
   "source": []
  }
 ],
 "metadata": {
  "kernelspec": {
   "display_name": "Python 3",
   "language": "python",
   "name": "python3"
  },
  "language_info": {
   "codemirror_mode": {
    "name": "ipython",
    "version": 3
   },
   "file_extension": ".py",
   "mimetype": "text/x-python",
   "name": "python",
   "nbconvert_exporter": "python",
   "pygments_lexer": "ipython3",
   "version": "3.7.3"
  }
 },
 "nbformat": 4,
 "nbformat_minor": 2
}
