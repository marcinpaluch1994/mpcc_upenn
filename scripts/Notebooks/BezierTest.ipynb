{
 "cells": [
  {
   "cell_type": "markdown",
   "metadata": {},
   "source": [
    "# APPROXIMATE ARC LENGTH PARAMETRIZATION USING CUBIC BEZIER CURVES"
   ]
  },
  {
   "cell_type": "code",
   "execution_count": 2,
   "metadata": {},
   "outputs": [],
   "source": [
    "import numpy as np\n",
    "import matplotlib.pyplot as plt\n",
    "from scipy.linalg import kron\n",
    "import cvxpy as cp\n",
    "from scipy.interpolate import CubicSpline\n",
    "%matplotlib inline"
   ]
  },
  {
   "cell_type": "code",
   "execution_count": 5,
   "metadata": {},
   "outputs": [],
   "source": [
    "trackx = np.array([-3.2,\n",
    "-3,\n",
    "-2.4,\n",
    "-1.8,\n",
    "0,\n",
    "0.6,\n",
    "1.2,\n",
    "1.4,\n",
    "1.2,\n",
    "0.6,\n",
    "0,\n",
    "-1.8,\n",
    "-2.4,\n",
    "-3])\n",
    "\n",
    "tracky = np.array([-1.2,\n",
    "-1.8,\n",
    "-2.4,\n",
    "-2.6,\n",
    "-2.6,\n",
    "-2.4,\n",
    "-1.8,\n",
    "-1.2,\n",
    "-0.6,\n",
    "0,\n",
    "0.2,\n",
    "0.2,\n",
    "0,\n",
    "-0.6 ])\n",
    "waypoints = np.vstack([trackx,tracky]).T\n",
    "np.savetxt('indi500xd.csv', waypoints, delimiter = ', ')"
   ]
  },
  {
   "cell_type": "code",
   "execution_count": 6,
   "metadata": {},
   "outputs": [
    {
     "data": {
      "text/plain": [
       "<matplotlib.collections.PathCollection at 0x7f0afe9c6dd8>"
      ]
     },
     "execution_count": 6,
     "metadata": {},
     "output_type": "execute_result"
    },
    {
     "data": {
      "image/png": "[encoded data removed]",
      "text/plain": [
       "<Figure size 432x288 with 1 Axes>"
      ]
     },
     "metadata": {
      "needs_background": "light"
     },
     "output_type": "display_data"
    }
   ],
   "source": [
    "\n",
    "plt.scatter(trackx, tracky)\n"
   ]
  },
  {
   "cell_type": "code",
   "execution_count": 46,
   "metadata": {},
   "outputs": [],
   "source": [
    "def interpolateclosedBezier(waypoints):\n",
    "    n = len(waypoints)\n",
    "    M = np.zeros([n,n])\n",
    "\n",
    "    #build M\n",
    "    tridiagel = np.matrix([[1, 4, 1]])\n",
    "    for idx in range(n-2):\n",
    "        M[idx+1:idx+2, idx:idx+3] = tridiagel\n",
    "\n",
    "    M[0,0:2]= tridiagel[:,1:3]\n",
    "    M[-1,-2:]= tridiagel[:,0:2]\n",
    "    M[0:2,-1] = tridiagel[:,0].reshape(1,-1)\n",
    "    M[-1,0] = tridiagel[:,0].reshape(1,-1)\n",
    "\n",
    "\n",
    "    #build sol vector\n",
    "    s =np.zeros([n,2])\n",
    "    for idx in range(n-1):\n",
    "        s[idx,:] = 2*(2*waypoints[idx,:] + waypoints[idx+1,:])\n",
    "    s[-1:] = 2*(2*waypoints[-1,:] + waypoints[0,:])\n",
    "    \n",
    "    #solve for a & b\n",
    "    Ax = np.linalg.solve(M,s[:,0])\n",
    "    Ay = np.linalg.solve(M,s[:,1])\n",
    "\n",
    "    a = np.vstack([Ax,Ay])\n",
    "    b = np.zeros([2,n])\n",
    "\n",
    "    b[:,:-1] = 2*waypoints.T[:,1:] - a[:,1:]\n",
    "    b[:,-1] = 2*waypoints.T[:,0] - a[:,0]\n",
    "    \n",
    "    return a, b\n",
    "    \n",
    "def evalclosedBezier(waypoints, a, b, t):\n",
    "    segment = np.floor(t)\n",
    "    segment = int(segment)\n",
    "    n = len(waypoints)\n",
    "    if segment>=n:\n",
    "        t =n-0.0001\n",
    "        segment = n-1\n",
    "    elif t<0:\n",
    "        t = 0\n",
    "    t_val = t-segment\n",
    "    coords = np.power(1 - t_val, 3) * waypoints.T[:,segment] + 3 * np.power(1 - t_val, 2) * t_val * a[:,segment]\\\n",
    "    + 3 * (1 - t_val) * np.power(t_val, 2) * b[:,segment] + np.power(t_val, 3) * waypoints.T[:,int(np.mod(segment+1,n))]\n",
    "    \n",
    "    return coords\n",
    "\n",
    "def getangleBezier(waypoints, a, b, t):\n",
    "    der = evalclosedBezier(waypoints, a, b, t+0.1) - evalclosedBezier(waypoints, a, b, t)\n",
    "    phi = np.arctan2(der[1]/der[0])\n",
    "    return der, phi\n",
    "\n",
    "def computeT(coef,order, s):\n",
    "    res = 0\n",
    "    for idx in range(order):\n",
    "        res += coef[idx]*np.power(s,order-idx)\n",
    "    return res\n"
   ]
  },
  {
   "cell_type": "code",
   "execution_count": 63,
   "metadata": {},
   "outputs": [],
   "source": [
    "from scipy.interpolate import CubicSpline\n",
    "\n",
    "def interpolateWP(waypoints):\n",
    "    n = len(waypoints)\n",
    "    pointvals = np.arange(n+1)\n",
    "    waypoints = np.vstack((waypoints, waypoints[0,:].reshape(-1,1).T))\n",
    "    x_int = CubicSpline(pointvals, waypoints[:,0], bc_type = 'periodic')\n",
    "    y_int = CubicSpline(pointvals, waypoints[:,1], bc_type = 'periodic')\n",
    "    return x_int, y_int\n",
    "    \n",
    "def evalCS(x_int, y_int, t):\n",
    "    x_vals = x_int(t)\n",
    "    y_vals = y_int(t)\n",
    "    coords = np.array([x_vals,y_vals])\n",
    "    return coords\n",
    "\n",
    "def getangle(x_int, y_int, t):\n",
    "    der = evalCS(x_int, y_int, t+0.1) - evalCS(x_int, y_int, t)\n",
    "    phi = np.arctan2(der[1]/der[0])\n",
    "    return der, phiS\n",
    "\n",
    "def computeT(coef,order, s):\n",
    "    res = 0\n",
    "    for idx in range(order):\n",
    "        res += coef[idx]*np.power(s,order-idx)\n",
    "    return res"
   ]
  },
  {
   "cell_type": "code",
   "execution_count": 52,
   "metadata": {},
   "outputs": [
    {
     "data": {
      "text/plain": [
       "array([[-1.6,  4.2]])"
      ]
     },
     "execution_count": 52,
     "metadata": {},
     "output_type": "execute_result"
    }
   ],
   "source": [
    "(waypoints[-1,:].reshape(-1,1)).T"
   ]
  },
  {
   "cell_type": "code",
   "execution_count": 62,
   "metadata": {},
   "outputs": [
    {
     "data": {
      "text/plain": [
       "array([[-2.2,  3.4],\n",
       "       [-2.2,  2.2],\n",
       "       [-2.2,  1.8],\n",
       "       [-2. ,  1.6],\n",
       "       [-1.6,  1.6],\n",
       "       [-1.2,  1.6],\n",
       "       [-0.8,  1.4],\n",
       "       [-0.8,  1. ],\n",
       "       [-1.2,  0.8],\n",
       "       [-1.6,  0.8],\n",
       "       [-2. ,  0.8],\n",
       "       [-2.2,  0.6],\n",
       "       [-2.2,  0.2],\n",
       "       [-1.8,  0. ],\n",
       "       [-1.4,  0. ],\n",
       "       [-1. ,  0. ],\n",
       "       [-0.4,  0. ],\n",
       "       [ 0. ,  0.2],\n",
       "       [ 0.2,  0.6],\n",
       "       [ 0.6,  1. ],\n",
       "       [ 1.2,  1. ],\n",
       "       [ 1.6,  1.2],\n",
       "       [ 1.8,  1.6],\n",
       "       [ 1.8,  2.2],\n",
       "       [ 1.8,  2.8],\n",
       "       [ 1.8,  3.4],\n",
       "       [ 1.8,  4. ],\n",
       "       [ 1.4,  4.4],\n",
       "       [ 1. ,  4.2],\n",
       "       [ 0.2,  3. ],\n",
       "       [ 0.2,  2.6],\n",
       "       [ 0.6,  2.4],\n",
       "       [ 1. ,  2.4],\n",
       "       [ 1.2,  2.2],\n",
       "       [ 1.2,  1.8],\n",
       "       [ 0.8,  1.6],\n",
       "       [ 0.2,  1.6],\n",
       "       [-0.2,  1.8],\n",
       "       [-0.6,  2.2],\n",
       "       [-1.4,  2.2],\n",
       "       [-1.6,  2.6],\n",
       "       [-1.4,  3. ],\n",
       "       [-0.6,  3.2],\n",
       "       [ 0. ,  4. ],\n",
       "       [-0.2,  4.4],\n",
       "       [-1. ,  4.4],\n",
       "       [-1.6,  4.2],\n",
       "       [-2.2,  3.4]])"
      ]
     },
     "execution_count": 62,
     "metadata": {},
     "output_type": "execute_result"
    }
   ],
   "source": [
    "wp = np.vstack((waypoints, waypoints[0,:].reshape(-1,1).T))\n",
    "wp"
   ]
  },
  {
   "cell_type": "code",
   "execution_count": null,
   "metadata": {},
   "outputs": [],
   "source": []
  },
  {
   "cell_type": "code",
   "execution_count": 64,
   "metadata": {},
   "outputs": [
    {
     "data": {
      "text/plain": [
       "<matplotlib.collections.PathCollection at 0x7f55245adda0>"
      ]
     },
     "execution_count": 64,
     "metadata": {},
     "output_type": "execute_result"
    },
    {
     "data": {
      "image/png": "[encoded data removed]",
      "text/plain": [
       "<Figure size 432x288 with 1 Axes>"
      ]
     },
     "metadata": {
      "needs_background": "light"
     },
     "output_type": "display_data"
    }
   ],
   "source": [
    "#%matplotlib qt\n",
    "npoints = 200\n",
    "x_int, y_int = interpolateWP(waypoints)\n",
    "coords =[]\n",
    "tvals = np.linspace(0, 47, npoints+1)\n",
    "for t in tvals:\n",
    "    coords.append(evalCS(x_int, y_int, t))\n",
    "\n",
    "coords = np.array(coords)\n",
    "coords.shape\n",
    "\n",
    "plt.plot(coords[:,0],coords[:,1])\n",
    "plt.scatter(trackx, tracky)\n"
   ]
  },
  {
   "cell_type": "code",
   "execution_count": 47,
   "metadata": {},
   "outputs": [
    {
     "data": {
      "text/plain": [
       "<matplotlib.collections.PathCollection at 0x7f55245b77b8>"
      ]
     },
     "execution_count": 47,
     "metadata": {},
     "output_type": "execute_result"
    },
    {
     "data": {
      "image/png": "[encoded data removed]",
      "text/plain": [
       "<Figure size 432x288 with 1 Axes>"
      ]
     },
     "metadata": {
      "needs_background": "light"
     },
     "output_type": "display_data"
    }
   ],
   "source": [
    "#%matplotlib qt\n",
    "npoints = 200\n",
    "a, b = interpolateclosedBezier(waypoints)\n",
    "coords =[]\n",
    "tvals = np.linspace(0, 47, npoints+1)\n",
    "for t in tvals:\n",
    "    coords.append(evalclosedBezier(waypoints, a, b, t))\n",
    "\n",
    "coords = np.array(coords)\n",
    "coords.shape\n",
    "\n",
    "plt.plot(coords[:,0],coords[:,1])\n",
    "plt.scatter(trackx, tracky)\n"
   ]
  },
  {
   "cell_type": "code",
   "execution_count": 86,
   "metadata": {},
   "outputs": [
    {
     "data": {
      "text/plain": [
       "Text(0, 0.5, 's (approx. distance traveled) [m] ')"
      ]
     },
     "execution_count": 86,
     "metadata": {},
     "output_type": "execute_result"
    }
   ],
   "source": [
    "#compute approx distance to arc param\n",
    "dists = []\n",
    "dists.append(0)\n",
    "\n",
    "for idx in range(npoints):\n",
    "    dists.append(np.sqrt(np.sum(np.square(coords[idx,:]-coords[np.mod(idx+1,npoints-1),:]))))\n",
    "    \n",
    "dists = np.cumsum(np.array(dists))\n",
    "\n",
    "plt.figure()\n",
    "plt.plot(tvals, dists)\n",
    "plt.xlabel(\"t (Bezier param) [-]\")\n",
    "plt.ylabel(\"s (approx. distance traveled) [m] \")"
   ]
  },
  {
   "cell_type": "code",
   "execution_count": 63,
   "metadata": {},
   "outputs": [
    {
     "data": {
      "text/plain": [
       "(201,)"
      ]
     },
     "execution_count": 63,
     "metadata": {},
     "output_type": "execute_result"
    }
   ],
   "source": [
    "dists.shape\n"
   ]
  },
  {
   "cell_type": "code",
   "execution_count": 70,
   "metadata": {},
   "outputs": [],
   "source": [
    "'''\n",
    "#interpolation order\n",
    "order = 10\n",
    "norm = 1\n",
    "\n",
    "coef = cp.Variable((order,1))\n",
    "#create regressor\n",
    "A = dists.reshape(-1,1)\n",
    "for idx in range(order-1):\n",
    "    print('ord conc %f', idx+2)\n",
    "    A = np.concatenate((np.power(dists,idx+2).reshape(-1,1),A), axis =1)\n",
    "y = tvals.reshape(-1,1)\n",
    "\n",
    "gamma = 0.01\n",
    "objective = cp.Minimize(cp.pnorm(A@coef-y,norm) + gamma * cp.norm(coef,2))\n",
    "constraint = []\n",
    "constraint.append((A@coef)[-1] == y[-1])\n",
    "prob = cp.Problem(objective, constraint)\n",
    "result = prob.solve(solver = 'ECOS', verbose=True)\n",
    "\n",
    "coeffs = coef.value\n",
    "\n",
    "'''\n",
    "\n",
    "ts_inverse = CubicSpline(dists, tvals)"
   ]
  },
  {
   "cell_type": "code",
   "execution_count": 66,
   "metadata": {},
   "outputs": [
    {
     "data": {
      "text/plain": [
       "(201, 1)"
      ]
     },
     "execution_count": 66,
     "metadata": {},
     "output_type": "execute_result"
    }
   ],
   "source": [
    "(A@coef-y).shape"
   ]
  },
  {
   "cell_type": "code",
   "execution_count": 71,
   "metadata": {},
   "outputs": [
    {
     "data": {
      "text/plain": [
       "Text(0, 0.5, 's (approx. distance traveled) [m] ')"
      ]
     },
     "execution_count": 71,
     "metadata": {},
     "output_type": "execute_result"
    }
   ],
   "source": [
    "smax = dists[-1]\n",
    "svals = np.linspace(0, smax, npoints)\n",
    "t_corr = ts_inverse(svals) #computeT(coeffs,order,svals)\n",
    "\n",
    "plt.figure()\n",
    "plt.plot(tvals, dists)\n",
    "plt.plot(t_corr, svals)\n",
    "plt.xlabel(\"t (Bezier param) [-]\")\n",
    "plt.ylabel(\"s (approx. distance traveled) [m] \")"
   ]
  },
  {
   "cell_type": "code",
   "execution_count": 72,
   "metadata": {},
   "outputs": [
    {
     "data": {
      "text/plain": [
       "Text(0, 0.5, 's (approx. distance traveled) [m] ')"
      ]
     },
     "execution_count": 72,
     "metadata": {},
     "output_type": "execute_result"
    }
   ],
   "source": [
    "coords_corr = []\n",
    "\n",
    "for t in t_corr:\n",
    "    coords_corr.append(evalclosedBezier(waypoints, a, b, t))\n",
    "\n",
    "coords_corr = np.array(coords_corr)\n",
    "\n",
    "plt.figure()\n",
    "plt.plot(coords_corr[:,0],coords_corr[:,1])\n",
    "plt.scatter(trackx, tracky)\n",
    "plt.scatter(coords_corr[:,0],coords_corr[:,1], s=10)\n",
    "\n",
    "\n",
    "dists_corr = []\n",
    "\n",
    "for idx in range(npoints):\n",
    "    dists_corr.append(np.sqrt(np.sum(np.square(coords_corr[idx,:]-coords_corr[np.mod(idx+1,npoints-1),:]))))\n",
    "    \n",
    "dists_corr = np.cumsum(np.array(dists_corr))\n",
    "\n",
    "plt.figure()\n",
    "#plt.plot(tvals, dists)\n",
    "plt.plot([0, 4], [0, 4])\n",
    "plt.plot(svals, dists_corr)\n",
    "plt.legend([\"x=y\",\"arclength vs t_corr\"])\n",
    "plt.xlabel(\"t (Bezier param corr ) [m]\")\n",
    "plt.ylabel(\"s (approx. distance traveled) [m] \")"
   ]
  },
  {
   "cell_type": "code",
   "execution_count": 89,
   "metadata": {},
   "outputs": [
    {
     "data": {
      "image/png": "[encoded data removed]",
      "text/plain": [
       "<Figure size 432x288 with 1 Axes>"
      ]
     },
     "metadata": {
      "needs_background": "light"
     },
     "output_type": "display_data"
    }
   ],
   "source": [
    "plt.figure()\n",
    "plt.plot(coords_corr[:,0],coords_corr[:,1])\n",
    "plt.scatter(trackx, tracky)\n",
    "\n",
    "der = []\n",
    "for t in t_corr:\n",
    "    der.append(getangleBezier(waypoints, a, b, t))\n",
    "der = np.array(der)\n",
    "\n",
    "downsampling = 20\n",
    "scaling = 1\n",
    "for idx in range(int(np.floor(len(coords)/downsampling))):\n",
    "    idxeval = int(idx*downsampling)\n",
    "    plt.plot([coords_corr[idxeval,0],coords_corr[idxeval,0] + scaling*der[idxeval,0]]\\\n",
    "             ,[coords_corr[idxeval,1],coords_corr[idxeval,1] + scaling*der[idxeval,1]], color='r')\n",
    "\n",
    "\n"
   ]
  },
  {
   "cell_type": "code",
   "execution_count": 88,
   "metadata": {},
   "outputs": [
    {
     "data": {
      "text/plain": [
       "array([0.002294  , 0.00776036])"
      ]
     },
     "execution_count": 88,
     "metadata": {},
     "output_type": "execute_result"
    }
   ],
   "source": [
    "getangleBezier(waypoints, a, b, 9)"
   ]
  },
  {
   "cell_type": "code",
   "execution_count": 24,
   "metadata": {},
   "outputs": [
    {
     "data": {
      "text/plain": [
       "array([ 0.        ,  0.07831925,  0.16965779,  0.27298709,  0.38714937,\n",
       "        0.51091795,  0.6430267 ,  0.78218593,  0.92709158,  1.07643107,\n",
       "        1.22888718,  1.38314117,  1.53787526,  1.69177523,  1.84353311,\n",
       "        1.99185064,  2.1354438 ,  2.27304927,  2.403434  ,  2.52541037,\n",
       "        2.64074977,  2.75518765,  2.86829253,  2.97938697,  3.08780911,\n",
       "        3.1929196 ,  3.29411097,  3.39082051,  3.48254891,  3.56888738,\n",
       "        3.6495582 ,  3.72447551,  3.79383508,  3.85823982,  3.9188519 ,\n",
       "        3.97751758,  4.03675134,  4.09948658,  4.16867931,  4.24695431,\n",
       "        4.33564564,  4.43459571,  4.54306564,  4.6600016 ,  4.78416451,\n",
       "        4.91420219,  5.04869146,  5.18616429,  5.32512504,  5.46406294,\n",
       "        5.60146235,  5.73581228,  5.86561725,  5.98941118,  6.10577778,\n",
       "        6.21338331,  6.31103318,  6.39777708,  6.47312819,  6.5381704 ,\n",
       "        6.59580458,  6.64906705,  6.70061792,  6.752394  ,  6.80549585,\n",
       "        6.86030062,  6.91666382,  6.97411092,  7.03199093,  7.08960068,\n",
       "        7.14629875,  7.20162891,  7.25547097,  7.30822456,  7.36099612,\n",
       "        7.41569517,  7.47491979,  7.54163207,  7.61833638,  7.70554375,\n",
       "        7.80281035,  7.90930984,  8.02399976,  8.14570965,  8.27319017,\n",
       "        8.40514214,  8.54023472,  8.67711753,  8.81442958,  8.95080648,\n",
       "        9.08488727,  9.21532175,  9.34077978,  9.45996411,  9.57162997,\n",
       "        9.67461713,  9.76790551,  9.85090933,  9.92455096,  9.9903783 ,\n",
       "       10.05004317, 10.10524672, 10.15763895, 10.20869074, 10.25958307,\n",
       "       10.31115343, 10.36390534, 10.41805894, 10.47361602, 10.53042242,\n",
       "       10.58822179, 10.64670034, 10.70552538, 10.76438054, 10.82300094,\n",
       "       10.88121053, 10.93896835, 10.99641378, 11.05369592, 11.11089169,\n",
       "       11.16801307, 11.22501619, 11.28181032, 11.3382664 , 11.39422515,\n",
       "       11.44950448, 11.50390665, 11.55722535, 11.60925294, 11.65978857,\n",
       "       11.7086475 , 11.75567264, 11.80074923, 11.84382386, 11.88492918,\n",
       "       11.92421684, 11.96204443, 11.99888332, 12.03515096, 12.07119132,\n",
       "       12.10727032, 12.14357755, 12.18023286, 12.21729563, 12.25477517,\n",
       "       12.29264105, 12.33083285, 12.36926912, 12.40785547, 12.44649233,\n",
       "       12.48508224, 12.52353729, 12.56178669, 12.59978497, 12.63752069,\n",
       "       12.67503946, 12.71242962, 12.74975162, 12.7870353 , 12.82428627,\n",
       "       12.86149258, 12.89863133, 12.93567528, 12.97259956, 13.0093884 ,\n",
       "       13.04604205, 13.08258389, 13.11906747, 13.15558344, 13.19226563,\n",
       "       13.22929588, 13.26690667, 13.30538086, 13.34504823, 13.38624422,\n",
       "       13.42912615, 13.47373795, 13.52007046, 13.56807262, 13.61766036,\n",
       "       13.66872367, 13.7211322 , 13.77473951, 13.82938655, 13.88490431,\n",
       "       13.94111596, 13.99783863, 14.05488485, 14.11206379, 14.16918236,\n",
       "       14.22604622, 14.28246074, 14.33823197, 14.39318313, 14.44730303,\n",
       "       14.50067964, 14.55340256, 14.6055617 , 14.65724721, 14.70854948,\n",
       "       14.75955907, 14.81036671, 14.8610632 , 14.91173942, 14.96248625,\n",
       "       15.01339452, 15.06455497, 15.11605818, 15.16799457, 15.22045432,\n",
       "       15.27352738, 15.3273034 , 15.38186744, 15.43718456, 15.49308589,\n",
       "       15.54939413, 15.60593143, 15.66252036, 15.71898496, 15.77515176,\n",
       "       15.83085091, 15.88591747, 15.94019284, 15.99352661, 16.04577858,\n",
       "       16.09682147, 16.14654414, 16.19485559, 16.24169009, 16.28701335,\n",
       "       16.3308302 , 16.37319407, 16.41426249, 16.45430207, 16.49355836,\n",
       "       16.53223851, 16.5705097 , 16.60849948, 16.64629762, 16.68395918,\n",
       "       16.72150831, 16.75894242, 16.79623664, 16.83334812, 16.87022035,\n",
       "       16.9067874 , 16.94297812, 16.97872047, 17.01394599, 17.04859469,\n",
       "       17.08262047, 17.1160299 , 17.14897132, 17.18161693, 17.21412826,\n",
       "       17.24665693, 17.27934595, 17.31233146, 17.34574459, 17.37971357,\n",
       "       17.41436571, 17.44982933, 17.48623545, 17.5237192 , 17.56242092,\n",
       "       17.6024869 , 17.6440699 , 17.68732924, 17.73243073, 17.77954639,\n",
       "       17.82880629, 17.87996154, 17.93259673, 17.98632651, 18.04080458,\n",
       "       18.09573311, 18.15087444, 18.20606498, 18.26123166, 18.31640988,\n",
       "       18.37176192, 18.42759267, 18.48435922, 18.54266986, 18.60326998,\n",
       "       18.66701521, 18.73483631, 18.80770266, 18.88659052, 18.97243297,\n",
       "       19.0655615 , 19.16562522, 19.27208343, 19.38428131, 19.50148714,\n",
       "       19.62291639, 19.74774784, 19.8751348 , 20.00421309, 20.13410724,\n",
       "       20.2639354 , 20.39281373, 20.51986065, 20.64420143, 20.7649736 ,\n",
       "       20.88133387, 20.99246772, 21.09760318, 21.19603556, 21.28742819,\n",
       "       21.37198244, 21.45001333, 21.52192697, 21.58824777, 21.64964984,\n",
       "       21.70698779, 21.76131548, 21.81387555, 21.86604456, 21.91923675,\n",
       "       21.97479527, 22.03390879, 22.09757329, 22.16659368, 22.24160789,\n",
       "       22.32311808, 22.41152022, 22.50712878, 22.6100074 , 22.71954671,\n",
       "       22.83493981, 22.95532568, 23.07980669, 23.20746044, 23.33734776,\n",
       "       23.46851877, 23.60001749, 23.73088591, 23.86016779, 23.98691267,\n",
       "       24.11018069, 24.22904858, 24.34261816, 24.45002848, 24.55047452,\n",
       "       24.64323705, 24.72773239, 24.80373788, 24.87216512, 24.93437759,\n",
       "       24.99178754, 25.04579701, 25.09771573, 25.14867526, 25.19956688,\n",
       "       25.25101937, 25.30341429, 25.35692402, 25.41155801, 25.46720761,\n",
       "       25.52368593, 25.58076237, 25.63819327, 25.69575037, 25.75324904,\n",
       "       25.81057765, 25.86773034, 25.92480854, 25.98189212, 26.03900019,\n",
       "       26.09609894, 26.15310982, 26.20991735, 26.26637631, 26.32231848,\n",
       "       26.37755884, 26.43190164, 26.48514645, 26.53709448, 26.58755583,\n",
       "       26.63635782, 26.68335553, 26.72844501, 26.77158051, 26.8127966 ,\n",
       "       26.85223759, 26.89024202, 26.92725915, 26.96368753, 26.99985664,\n",
       "       27.03602276, 27.07237052, 27.1090188 , 27.1460292 , 27.18341565,\n",
       "       27.22115408, 27.25919163, 27.29745513, 27.33585899, 27.37431261,\n",
       "       27.41272752, 27.45102453, 27.48914111, 27.52703924, 27.56471364,\n",
       "       27.60221117, 27.63961272, 27.67697116, 27.71430992, 27.75162925,\n",
       "       27.78891262, 27.82613308, 27.86325963, 27.90026358, 27.93712506,\n",
       "       27.97383962, 28.01042505, 28.04692829, 28.08343209, 28.12006116,\n",
       "       28.15698709, 28.19443127, 28.23266518, 28.27200742, 28.31278679,\n",
       "       28.35517437, 28.39923533, 28.44498253, 28.49238701, 28.54138659,\n",
       "       28.59189287, 28.64379673, 28.69697269, 28.75128236, 28.80657722,\n",
       "       28.8627008 , 28.91949054, 28.97677928, 29.03439656, 29.09216976,\n",
       "       29.14992516, 29.20748894, 29.26468816, 29.32136195, 29.37745904,\n",
       "       29.43299332, 29.4879797 , 29.5424332 , 29.59636894, 29.64980215,\n",
       "       29.70274817, 29.75522242, 29.80724043, 29.85881784, 29.90997035,\n",
       "       29.96071377, 30.01106398, 30.06103695, 30.11064871, 30.15991535,\n",
       "       30.20885304, 30.25747798, 30.3058079 , 30.35390064, 30.40185596,\n",
       "       30.44977322, 30.4977506 , 30.54588678, 30.59428257, 30.64304241,\n",
       "       30.69227586, 30.74209882, 30.79263464, 30.84401491, 30.89638009,\n",
       "       30.94987974, 31.00467263, 31.06092648, 31.11881749, 31.17852976,\n",
       "       31.24025445, 31.30418679, 31.37020629, 31.4375366 , 31.50532219,\n",
       "       31.57271309, 31.63887001, 31.70297096, 31.76422091, 31.82186691,\n",
       "       31.87522333, 31.9237162 , 31.96696541, 32.00494169, 32.0382608 ,\n",
       "       32.06863994, 32.09919966, 32.13386513, 32.17617136, 32.29337492,\n",
       "       32.43639715])"
      ]
     },
     "execution_count": 24,
     "metadata": {},
     "output_type": "execute_result"
    }
   ],
   "source": [
    "dists\n"
   ]
  },
  {
   "cell_type": "code",
   "execution_count": 91,
   "metadata": {},
   "outputs": [
    {
     "data": {
      "text/plain": [
       "26"
      ]
     },
     "execution_count": 91,
     "metadata": {},
     "output_type": "execute_result"
    }
   ],
   "source": [
    "len(waypoints)"
   ]
  },
  {
   "cell_type": "code",
   "execution_count": 9,
   "metadata": {},
   "outputs": [],
   "source": [
    "name = '/home/pw/catkin_ws/src/mpcc/scripts/forcespro/tracks/blahblah.csv'"
   ]
  },
  {
   "cell_type": "code",
   "execution_count": 10,
   "metadata": {},
   "outputs": [
    {
     "data": {
      "text/plain": [
       "'/home/pw/catkin_ws/src/mpcc/scripts/forcespro/tracks/'"
      ]
     },
     "execution_count": 10,
     "metadata": {},
     "output_type": "execute_result"
    }
   ],
   "source": [
    "name[0:53]"
   ]
  },
  {
   "cell_type": "code",
   "execution_count": 11,
   "metadata": {},
   "outputs": [
    {
     "data": {
      "text/plain": [
       "'blahblah'"
      ]
     },
     "execution_count": 11,
     "metadata": {},
     "output_type": "execute_result"
    }
   ],
   "source": [
    "name[53:-4]"
   ]
  },
  {
   "cell_type": "code",
   "execution_count": null,
   "metadata": {},
   "outputs": [],
   "source": []
  }
 ],
 "metadata": {
  "kernelspec": {
   "display_name": "Python 2",
   "language": "python",
   "name": "python2"
  },
  "language_info": {
   "codemirror_mode": {
    "name": "ipython",
    "version": 3
   },
   "file_extension": ".py",
   "mimetype": "text/x-python",
   "name": "python",
   "nbconvert_exporter": "python",
   "pygments_lexer": "ipython3",
   "version": "3.6.9"
  }
 },
 "nbformat": 4,
 "nbformat_minor": 2
}
